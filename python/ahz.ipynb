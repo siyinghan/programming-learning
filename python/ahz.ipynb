{
 "cells": [
  {
   "cell_type": "code",
   "execution_count": 1,
   "metadata": {},
   "outputs": [],
   "source": [
    "import pandas as pd\n",
    "import matplotlib\n",
    "import matplotlib.pyplot as plt"
   ]
  },
  {
   "cell_type": "code",
   "execution_count": 2,
   "metadata": {},
   "outputs": [],
   "source": [
    "d_name = {\"苏暮雨\": \"雨\", \"苏昌河\": \"河\", \"白鹤淮\": \"淮\", \"苏喆\": \"喆\", \"慕雨墨\": \"墨\", \"唐怜月\": \"月\", \"慕雪薇\": \"薇\", \"慕青羊\": \"羊\"}\n",
    "l_com = [\"雨河\", \"雨淮\", \"雨喆\", \"雨墨\", \"雨月\", \"雨薇\", \"雨羊\", \"河淮\", \"淮喆\", \"墨月\", \"薇羊\"]\n",
    "\n",
    "df_role = pd.read_excel(\"暗河传.xlsx\", sheet_name=\"页数\", usecols=\"A:E, K:R, T\", na_filter = False).dropna()\n",
    "df_date = pd.read_excel(\"暗河传.xlsx\", sheet_name=\"页数\", usecols=\"A:C, U:AE\")"
   ]
  },
  {
   "cell_type": "markdown",
   "metadata": {},
   "source": [
    "#### Check roles"
   ]
  },
  {
   "cell_type": "code",
   "execution_count": 3,
   "metadata": {},
   "outputs": [],
   "source": [
    "for index, row in df_role.iterrows():\n",
    "    if row[\"角色\"]:\n",
    "        for name, aname in d_name.items():\n",
    "            if name in row[\"角色\"] and name + \"（小）\" not in row[\"角色\"]:\n",
    "                if row[aname] != 1:\n",
    "                    print(row[0], row[1], aname, \"should be 1\")\n",
    "            elif row[aname] == 1:\n",
    "                print(row[0], row[1], aname, \"should be 0\")"
   ]
  },
  {
   "cell_type": "markdown",
   "metadata": {},
   "source": [
    "#### Fill in roles"
   ]
  },
  {
   "cell_type": "code",
   "execution_count": null,
   "metadata": {},
   "outputs": [],
   "source": [
    "for index, row in df_role.iterrows():\n",
    "    if row[\"组\"]:\n",
    "        for name, aname in d_name.items():\n",
    "            if name in row[\"角色\"] and name + \"（小）\" not in row[\"角色\"]:\n",
    "                df_role.loc[index, aname] = 1\n",
    "            else:\n",
    "                df_role.loc[index, aname] = 0\n",
    "            df_role.loc[\"总\", aname] = df_role[(df_role[aname]==1) | (df_role[aname]==0)][aname].sum()\n",
    "            if df_role.loc[\"总\", aname] > 0:\n",
    "                df_role.loc[\"天\", aname] = 1\n",
    "            else:\n",
    "                df_role.loc[\"天\", aname] = 0\n",
    "\n",
    "df_role.to_excel('ahz_fill_in.xlsx', engine='xlsxwriter', index=False)\n",
    "print(\"===== fill in complete =====\")"
   ]
  },
  {
   "cell_type": "markdown",
   "metadata": {},
   "source": [
    "#### Count pages"
   ]
  },
  {
   "cell_type": "code",
   "execution_count": null,
   "metadata": {},
   "outputs": [],
   "source": [
    "df_count_page = pd.DataFrame()\n",
    "\n",
    "pages_t = df_role[(df_role[\"组\"]==\"A\") | (df_role[\"组\"]==\"B\")][\"页数\"].sum()\n",
    "\n",
    "for name, aname in d_name.items():\n",
    "    # count \"场数\"\n",
    "    df_count_page.loc[\"总\", \"场数\"] = df_role[(df_role[\"组\"]==\"A\") | (df_role[\"组\"]==\"B\")][\"页数\"].count()\n",
    "    df_count_page.loc[aname, \"场数\"] = df_role.value_counts(aname)[1]\n",
    "    # count \"页数\"\n",
    "    df_count_page.loc[\"总\", \"页数\"] = pages_t\n",
    "    pages_s = df_role[df_role[aname]==1][\"页数\"].sum()\n",
    "    df_count_page.loc[aname, \"页数\"] = pages_s\n",
    "    df_count_page.loc[aname, \"占比\"] = pages_s / pages_t\n",
    "    # # count \"A组\"\n",
    "    pages_a_t = df_count_page.loc[\"总\", \"A组\"] = df_role[df_role[\"组\"]==\"A\"][\"页数\"].sum()\n",
    "    df_count_page.loc[\"总\", \"A%\"] = pages_a_t / pages_t\n",
    "    pages_a = df_role[(df_role[\"组\"]==\"A\") & df_role[aname]==1][\"页数\"].sum()\n",
    "    df_count_page.loc[aname, \"A组\"] = pages_a\n",
    "    df_count_page.loc[aname, \"A%\"] = pages_a / pages_s\n",
    "\n",
    "for name_ab in l_com:\n",
    "    # count \"场数\"\n",
    "    df_count_page.loc[name_ab[0] + \"+\" + name_ab[1], \"场数\"] = df_role[(df_role[name_ab[0]]==1) & (df_role[name_ab[1]]==1)][\"页数\"].count()\n",
    "    # count \"页数\"\n",
    "    pages_com = df_role[(df_role[name_ab[0]]==1) & (df_role[name_ab[1]]==1)][\"页数\"].sum()\n",
    "    df_count_page.loc[name_ab[0] + \"+\" + name_ab[1], \"页数\"] = pages_com\n",
    "    df_count_page.loc[name_ab[0] + \"+\" + name_ab[1], \"占比\"] = pages_com / pages_t\n",
    "    df_count_page.loc[name_ab[0] + \"+\" + name_ab[1], name_ab[0] + \"%\"] = pages_com / df_count_page.loc[name_ab[0], \"页数\"]\n",
    "    df_count_page.loc[name_ab[0] + \"+\" + name_ab[1], name_ab[1] + \"%\"] = pages_com / df_count_page.loc[name_ab[1], \"页数\"]\n",
    "\n",
    "df_count_page = df_count_page.style.format({\"场数\": \"{:,.0f}\".format, \"页数\": \"{:,.1f}\".format, \"占比\": \"{:,.2%}\".format, \"A组\": \"{:,.1f}\".format, \"A%\": \"{:,.2%}\".format, \n",
    "                                            \"雨%\": \"{:,.2%}\".format, \"河%\": \"{:,.2%}\".format, \"淮%\": \"{:,.2%}\".format, \"喆%\": \"{:,.2%}\".format, \"墨%\": \"{:,.2%}\".format, \"月%\": \"{:,.2%}\".format, \"薇%\": \"{:,.2%}\".format, \"羊%\": \"{:,.2%}\".format})\n",
    "\n",
    "df_count_page"
   ]
  },
  {
   "cell_type": "markdown",
   "metadata": {},
   "source": [
    "#### Count pages by episode"
   ]
  },
  {
   "cell_type": "code",
   "execution_count": null,
   "metadata": {},
   "outputs": [],
   "source": [
    "pd.options.display.max_columns = None\n",
    "df_count_page_epi = pd.DataFrame()\n",
    "\n",
    "for epi in range(1, 41):\n",
    "    for aname in d_name.values():\n",
    "        pages_t = df_role[df_role[\"集\"]==epi][\"页数\"].sum()\n",
    "        df_count_page_epi.loc[\"总\", epi] = pages_t\n",
    "        pages_s = df_role[(df_role[\"集\"]==epi) & (df_role[aname]==1)][\"页数\"].sum()\n",
    "        df_count_page_epi.loc[aname, epi] = pages_s\n",
    "        if pages_t:\n",
    "            df_count_page_epi.loc[aname+\"%\", epi] = pages_s / pages_t\n",
    "\n",
    "df_count_page_epi = df_count_page_epi.T\n",
    "# df_count_page_epi = df_count_page_epi.style.format({\"总\": \"{:,.1f}\", \"雨\": \"{:,.1f}\".format, \"河\": \"{:,.1f}\".format, \"淮\": \"{:,.1f}\".format, \"喆\": \"{:,.1f}\".format, \"墨\": \"{:,.1f}\".format, \"月\": \"{:,.1f}\".format, \"薇\": \"{:,.1f}\".format, \"羊\": \"{:,.1f}\".format,\n",
    "#     \"雨%\": \"{:,.2%}\".format, \"河%\": \"{:,.2%}\".format, \"淮%\": \"{:,.2%}\".format, \"喆%\": \"{:,.2%}\".format, \"墨%\": \"{:,.2%}\".format, \"月%\": \"{:,.2%}\".format, \"薇%\": \"{:,.2%}\".format, \"羊%\": \"{:,.2%}\".format})\n",
    "df_count_page_epi\n"
   ]
  },
  {
   "cell_type": "code",
   "execution_count": null,
   "metadata": {},
   "outputs": [],
   "source": [
    "matplotlib.rcParams['font.family'] = ['Heiti TC']\n",
    "plt.figure(figsize=(40, 10))\n",
    "plt.bar(range(1, 41), df_count_page_epi[\"总\"], color=[\"#b6cca1\"], alpha=0.3)\n",
    "for aname in d_name.values():\n",
    "    plt.plot(range(1, 41), df_count_page_epi[aname], \"-o\", label=aname, alpha=0.6)\n",
    "plt.xticks(range(1, 41));\n",
    "plt.xlim(0.2, 40.8)\n",
    "plt.xlabel(\"episode\")\n",
    "plt.ylabel(\"pages\")\n",
    "plt.legend();"
   ]
  },
  {
   "cell_type": "code",
   "execution_count": null,
   "metadata": {},
   "outputs": [],
   "source": [
    "matplotlib.rcParams['font.family'] = ['Heiti TC']\n",
    "plt.figure(figsize=(40, 10))\n",
    "plt.bar(range(1, 41), df_count_page_epi[\"总\"], color=[\"#b6cca1\"], alpha=0.3)\n",
    "plt.plot(range(1, 41), df_count_page_epi[\"雨\"], \"-o\", label=\"雨\", alpha=0.7)\n",
    "plt.plot(range(1, 41), df_count_page_epi[\"河\"], \"-o\", label=\"河\", alpha=0.7)\n",
    "plt.plot(range(1, 41), df_count_page_epi[\"淮\"], \"-o\", label=\"淮\", alpha=0.7)\n",
    "plt.xticks(range(1, 41));\n",
    "plt.xlim(0.2, 40.8)\n",
    "plt.xlabel(\"episode\")\n",
    "plt.ylabel(\"pages\")\n",
    "plt.legend();"
   ]
  },
  {
   "cell_type": "markdown",
   "metadata": {},
   "source": [
    "#### Count others pages"
   ]
  },
  {
   "cell_type": "code",
   "execution_count": null,
   "metadata": {},
   "outputs": [],
   "source": [
    "names = [\"萧若风\", \"李寒衣\", \"李心月\", \"谢宣\", \"萧永\", \"浊清\"]\n",
    "\n",
    "for name in names:\n",
    "    print(name, df_role[(df_role[\"组\"]==\"A\") | (df_role[\"组\"]==\"B\")][df_role[\"角色\"].str.contains(name, na = False)][\"页数\"].sum())"
   ]
  },
  {
   "cell_type": "markdown",
   "metadata": {},
   "source": [
    "#### Count dates"
   ]
  },
  {
   "cell_type": "code",
   "execution_count": null,
   "metadata": {},
   "outputs": [],
   "source": [
    "dates = [\"拍摄日期\", \"Unnamed: 21\", \"Unnamed: 22\", \"Unnamed: 23\", \"Unnamed: 24\", \"Unnamed: 25\", \"Unnamed: 26\", \"Unnamed: 27\", \"Unnamed: 28\", \"Unnamed: 29\", \"Unnamed: 30\"]\n",
    "\n",
    "for index, row in df_date.iterrows():\n",
    "    if not pd.isna(row[\"拍摄日期\"]):\n",
    "        df_date.loc[index, \"天数\"] = 0\n",
    "        for date in dates:\n",
    "            if not pd.isna(df_date.loc[index, date]):\n",
    "                df_date.loc[index, \"天数\"] += 1\n",
    "\n",
    "df_count_date = df_date[[\"集\", \"场\", \"主要内容\", \"天数\"]]\n",
    "# df_count_date = df_count_date.fillna(0)\n",
    "# df_count_date[\"天数\"] = df_count_date[\"天数\"].astype(int)\n",
    "df_count_date = df_count_date.sort_values(by=[\"天数\"], ascending=False)\n",
    "\n",
    "df_count_date.to_excel(\"ahz_count_date.xlsx\", index=False)\n",
    "df_count_date[:30]"
   ]
  },
  {
   "cell_type": "markdown",
   "metadata": {},
   "source": [
    "#### Export to table"
   ]
  },
  {
   "cell_type": "code",
   "execution_count": 11,
   "metadata": {},
   "outputs": [],
   "source": [
    "date = \"10-28\""
   ]
  },
  {
   "cell_type": "markdown",
   "metadata": {},
   "source": [
    "##### A"
   ]
  },
  {
   "cell_type": "code",
   "execution_count": null,
   "metadata": {},
   "outputs": [],
   "source": [
    "with open(\"ahz.txt\", \"r\", encoding=\"utf-8\") as file:\n",
    "    lines = file.readlines()\n",
    "\n",
    "# create group for each 8 lines\n",
    "groups = [lines[i:i+8] for i in range(0, len(lines), 8)]\n",
    "for group in groups:\n",
    "    js = group[0]\n",
    "    cc = group[1]\n",
    "    qf = group[2]\n",
    "    nw = group[3]\n",
    "    zcj = group[4]\n",
    "    fcj = group[5]\n",
    "    zynr = group[6]\n",
    "    ys = group[7]\n",
    "    group[0:20] = [group[0], group[1], group[6], group[7], \"A\", group[2], group[3], \"\\t\", group[4], group[5],\n",
    "                   \"\\t\", \"\\t\", \"\\t\", \"\\t\", \"\\t\", \"\\t\", \"\\t\", \"\\t\", \"\\t\", \"\\t\", date]\n",
    "\n",
    "# replace '\\n' with '\\t' and join the group with a newline\n",
    "result = \"\\n\".join([\"\\t\".join([line.strip() for line in group]) for group in groups])\n",
    "print(result)\n",
    "\n",
    "with open('ahz_result.txt', 'w', encoding='utf-8') as file:\n",
    "    file.write(result)"
   ]
  },
  {
   "cell_type": "markdown",
   "metadata": {},
   "source": [
    "##### B"
   ]
  },
  {
   "cell_type": "code",
   "execution_count": null,
   "metadata": {},
   "outputs": [],
   "source": [
    "with open(\"ahz.txt\", \"r\", encoding=\"utf-8\") as file:\n",
    "    lines = file.readlines()\n",
    "\n",
    "# create group for each 8 lines\n",
    "groups = [lines[i:i+8] for i in range(0, len(lines), 8)]\n",
    "for group in groups:\n",
    "    js = group[0]\n",
    "    cc = group[1]\n",
    "    qf = group[2]\n",
    "    nw = group[3]\n",
    "    zcj = group[4]\n",
    "    fcj = group[5]\n",
    "    zynr = group[6]\n",
    "    ys = group[7]\n",
    "    group[0:20] = [group[0], group[1], group[6], group[7], \"B\", group[2], group[3], \"\\t\", group[4], group[5],\n",
    "                   \"\\t\", \"\\t\", \"\\t\", \"\\t\", \"\\t\", \"\\t\", \"\\t\", \"\\t\", \"\\t\", \"\\t\", date]\n",
    "\n",
    "# replace '\\n' with '\\t' and join the group with a newline\n",
    "result = \"\\n\".join([\"\\t\".join([line.strip() for line in group]) for group in groups])\n",
    "print(result)\n",
    "\n",
    "with open('ahz_result.txt', 'w', encoding='utf-8') as file:\n",
    "    file.write(result)"
   ]
  }
 ],
 "metadata": {
  "kernelspec": {
   "display_name": "base",
   "language": "python",
   "name": "python3"
  },
  "language_info": {
   "codemirror_mode": {
    "name": "ipython",
    "version": 3
   },
   "file_extension": ".py",
   "mimetype": "text/x-python",
   "name": "python",
   "nbconvert_exporter": "python",
   "pygments_lexer": "ipython3",
   "version": "3.9.13"
  }
 },
 "nbformat": 4,
 "nbformat_minor": 2
}
