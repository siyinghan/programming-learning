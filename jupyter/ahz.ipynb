{
 "cells": [
  {
   "cell_type": "code",
   "execution_count": null,
   "metadata": {},
   "outputs": [],
   "source": [
    "import pandas as pd"
   ]
  },
  {
   "cell_type": "code",
   "execution_count": null,
   "metadata": {},
   "outputs": [],
   "source": [
    "d = {\"苏暮雨\": \"雨\",\n",
    "     \"苏昌河\": \"河\",\n",
    "     \"白鹤淮\": \"淮\",\n",
    "     \"苏喆\": \"喆\",\n",
    "     \"慕雨墨\": \"墨\",\n",
    "     \"唐怜月\": \"月\",\n",
    "     \"慕雪薇\": \"薇\",\n",
    "     \"慕青羊\": \"羊\"}\n",
    "\n",
    "df_role = pd.read_excel(\"暗河传.xlsx\", sheet_name=\"页数\", usecols=\"A:B, J:Q, S\", na_filter = False).dropna()\n",
    "df_date = pd.read_excel(\"暗河传.xlsx\", sheet_name=\"页数\", usecols=\"A:B, T:AD\")"
   ]
  },
  {
   "cell_type": "markdown",
   "metadata": {},
   "source": [
    "##### Check roles"
   ]
  },
  {
   "cell_type": "code",
   "execution_count": null,
   "metadata": {},
   "outputs": [],
   "source": [
    "for index, row in df_role.iterrows():\n",
    "    if row[\"角色\"]:\n",
    "        for name, aname in d.items():\n",
    "            if name in row[\"角色\"] and name + \"（小）\" not in row[\"角色\"]:\n",
    "                if row[aname] != 1:\n",
    "                    print(row[0], row[1], aname, \"should be 1\")\n",
    "            elif row[aname] == 1:\n",
    "                print(row[0], row[1], aname, \"should be 0\")"
   ]
  },
  {
   "cell_type": "markdown",
   "metadata": {},
   "source": [
    "##### Fill in roles"
   ]
  },
  {
   "cell_type": "code",
   "execution_count": null,
   "metadata": {},
   "outputs": [],
   "source": [
    "for index, row in df_role.iterrows():\n",
    "    if row[\"角色\"]:\n",
    "        for name, aname in d.items():\n",
    "            if name in row[\"角色\"] and name + \"（小）\" not in row[\"角色\"]:\n",
    "                df_role.loc[index, aname] = 1\n",
    "            else:\n",
    "                df_role.loc[index, aname] = 0\n",
    "\n",
    "df_role.to_excel('ahz.xlsx', engine='xlsxwriter', sheet_name='按集数', index=False)\n",
    "\n",
    "print(\"===== fill in complete =====\")"
   ]
  },
  {
   "cell_type": "markdown",
   "metadata": {},
   "source": [
    "##### Count dates"
   ]
  },
  {
   "cell_type": "code",
   "execution_count": null,
   "metadata": {},
   "outputs": [],
   "source": [
    "dates = [\"拍摄日期\", \"Unnamed: 20\", \"Unnamed: 21\", \"Unnamed: 22\", \"Unnamed: 23\", \"Unnamed: 24\", \"Unnamed: 25\", \"Unnamed: 26\", \"Unnamed: 27\", \"Unnamed: 28\", \"Unnamed: 29\"]\n",
    "\n",
    "for index, row in df_date.iterrows():\n",
    "    if not pd.isna(row[\"拍摄日期\"]):\n",
    "        df_date.loc[index, \"天数\"] = 0\n",
    "        for date in dates:\n",
    "            if not pd.isna(df_date.loc[index, date]):\n",
    "                df_date.loc[index, \"天数\"] += 1\n",
    "\n",
    "df_count = df_date[[\"场次\", \"主要内容\", \"天数\"]]\n",
    "# df_count = df_count.fillna(0)\n",
    "# df_count[\"天数\"] = df_count[\"天数\"].astype(int)\n",
    "df_count = df_count.sort_values(by=[\"天数\"], ascending=False)\n",
    "\n",
    "df_count.to_excel(\"ahz_count_date.xlsx\", index=False)\n",
    "df_count[:30]"
   ]
  }
 ],
 "metadata": {
  "kernelspec": {
   "display_name": "Python 3 (ipykernel)",
   "language": "python",
   "name": "python3"
  },
  "language_info": {
   "codemirror_mode": {
    "name": "ipython",
    "version": 3
   },
   "file_extension": ".py",
   "mimetype": "text/x-python",
   "name": "python",
   "nbconvert_exporter": "python",
   "pygments_lexer": "ipython3",
   "version": "3.9.13"
  }
 },
 "nbformat": 4,
 "nbformat_minor": 2
}
